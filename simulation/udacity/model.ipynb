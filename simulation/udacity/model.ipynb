{
 "cells": [
  {
   "cell_type": "code",
   "execution_count": 6,
   "metadata": {},
   "outputs": [],
   "source": [
    "import os\n",
    "import numpy as np\n",
    "import matplotlib.pyplot as plt \n",
    "import matplotlib.image as mpimg \n",
    "import keras \n",
    "import tensorflow as tf\n",
    "from keras.models import Sequential \n",
    "from tensorflow.keras.optimizers import Adam \n",
    "from keras.layers import Convolution2D, MaxPooling2D, Dropout, Flatten, Dense \n",
    "from sklearn.utils import shuffle \n",
    "from sklearn.model_selection import train_test_split\n",
    "from imgaug import augmenters as iaa \n",
    "import cv2\n",
    "import pandas as pd \n",
    "import ntpath \n",
    "import random"
   ]
  },
  {
   "cell_type": "code",
   "execution_count": 8,
   "metadata": {},
   "outputs": [
    {
     "name": "stderr",
     "output_type": "stream",
     "text": [
      "C:\\Users\\YSH\\AppData\\Local\\Temp/ipykernel_12796/1581048176.py:6: FutureWarning: Passing a negative integer is deprecated in version 1.0 and will not be supported in future version. Instead, use None to not limit the column width.\n",
      "  pd.set_option('display.max_colwidth', -1)\n"
     ]
    },
    {
     "data": {
      "text/html": [
       "<div>\n",
       "<style scoped>\n",
       "    .dataframe tbody tr th:only-of-type {\n",
       "        vertical-align: middle;\n",
       "    }\n",
       "\n",
       "    .dataframe tbody tr th {\n",
       "        vertical-align: top;\n",
       "    }\n",
       "\n",
       "    .dataframe thead th {\n",
       "        text-align: right;\n",
       "    }\n",
       "</style>\n",
       "<table border=\"1\" class=\"dataframe\">\n",
       "  <thead>\n",
       "    <tr style=\"text-align: right;\">\n",
       "      <th></th>\n",
       "      <th>center</th>\n",
       "      <th>left</th>\n",
       "      <th>right</th>\n",
       "      <th>steering</th>\n",
       "      <th>throttle</th>\n",
       "      <th>reverse</th>\n",
       "      <th>speed</th>\n",
       "    </tr>\n",
       "  </thead>\n",
       "  <tbody>\n",
       "    <tr>\n",
       "      <th>0</th>\n",
       "      <td>C:\\Users\\YSH\\Documents\\OurAICar\\simulation\\simple\\data\\IMG\\center_2022_02_22_12_44_40_526.jpg</td>\n",
       "      <td>C:\\Users\\YSH\\Documents\\OurAICar\\simulation\\simple\\data\\IMG\\left_2022_02_22_12_44_40_526.jpg</td>\n",
       "      <td>C:\\Users\\YSH\\Documents\\OurAICar\\simulation\\simple\\data\\IMG\\right_2022_02_22_12_44_40_526.jpg</td>\n",
       "      <td>0.00</td>\n",
       "      <td>0.0</td>\n",
       "      <td>0</td>\n",
       "      <td>5.951196</td>\n",
       "    </tr>\n",
       "    <tr>\n",
       "      <th>1</th>\n",
       "      <td>C:\\Users\\YSH\\Documents\\OurAICar\\simulation\\simple\\data\\IMG\\center_2022_02_22_12_44_40_598.jpg</td>\n",
       "      <td>C:\\Users\\YSH\\Documents\\OurAICar\\simulation\\simple\\data\\IMG\\left_2022_02_22_12_44_40_598.jpg</td>\n",
       "      <td>C:\\Users\\YSH\\Documents\\OurAICar\\simulation\\simple\\data\\IMG\\right_2022_02_22_12_44_40_598.jpg</td>\n",
       "      <td>0.00</td>\n",
       "      <td>0.0</td>\n",
       "      <td>0</td>\n",
       "      <td>5.903379</td>\n",
       "    </tr>\n",
       "    <tr>\n",
       "      <th>2</th>\n",
       "      <td>C:\\Users\\YSH\\Documents\\OurAICar\\simulation\\simple\\data\\IMG\\center_2022_02_22_12_44_40_670.jpg</td>\n",
       "      <td>C:\\Users\\YSH\\Documents\\OurAICar\\simulation\\simple\\data\\IMG\\left_2022_02_22_12_44_40_670.jpg</td>\n",
       "      <td>C:\\Users\\YSH\\Documents\\OurAICar\\simulation\\simple\\data\\IMG\\right_2022_02_22_12_44_40_670.jpg</td>\n",
       "      <td>0.00</td>\n",
       "      <td>0.0</td>\n",
       "      <td>0</td>\n",
       "      <td>5.855948</td>\n",
       "    </tr>\n",
       "    <tr>\n",
       "      <th>3</th>\n",
       "      <td>C:\\Users\\YSH\\Documents\\OurAICar\\simulation\\simple\\data\\IMG\\center_2022_02_22_12_44_40_737.jpg</td>\n",
       "      <td>C:\\Users\\YSH\\Documents\\OurAICar\\simulation\\simple\\data\\IMG\\left_2022_02_22_12_44_40_737.jpg</td>\n",
       "      <td>C:\\Users\\YSH\\Documents\\OurAICar\\simulation\\simple\\data\\IMG\\right_2022_02_22_12_44_40_737.jpg</td>\n",
       "      <td>0.00</td>\n",
       "      <td>0.0</td>\n",
       "      <td>0</td>\n",
       "      <td>5.820624</td>\n",
       "    </tr>\n",
       "    <tr>\n",
       "      <th>4</th>\n",
       "      <td>C:\\Users\\YSH\\Documents\\OurAICar\\simulation\\simple\\data\\IMG\\center_2022_02_22_12_44_40_809.jpg</td>\n",
       "      <td>C:\\Users\\YSH\\Documents\\OurAICar\\simulation\\simple\\data\\IMG\\left_2022_02_22_12_44_40_809.jpg</td>\n",
       "      <td>C:\\Users\\YSH\\Documents\\OurAICar\\simulation\\simple\\data\\IMG\\right_2022_02_22_12_44_40_809.jpg</td>\n",
       "      <td>-0.05</td>\n",
       "      <td>0.0</td>\n",
       "      <td>0</td>\n",
       "      <td>5.785095</td>\n",
       "    </tr>\n",
       "  </tbody>\n",
       "</table>\n",
       "</div>"
      ],
      "text/plain": [
       "                                                                                          center  ...     speed\n",
       "0  C:\\Users\\YSH\\Documents\\OurAICar\\simulation\\simple\\data\\IMG\\center_2022_02_22_12_44_40_526.jpg  ...  5.951196\n",
       "1  C:\\Users\\YSH\\Documents\\OurAICar\\simulation\\simple\\data\\IMG\\center_2022_02_22_12_44_40_598.jpg  ...  5.903379\n",
       "2  C:\\Users\\YSH\\Documents\\OurAICar\\simulation\\simple\\data\\IMG\\center_2022_02_22_12_44_40_670.jpg  ...  5.855948\n",
       "3  C:\\Users\\YSH\\Documents\\OurAICar\\simulation\\simple\\data\\IMG\\center_2022_02_22_12_44_40_737.jpg  ...  5.820624\n",
       "4  C:\\Users\\YSH\\Documents\\OurAICar\\simulation\\simple\\data\\IMG\\center_2022_02_22_12_44_40_809.jpg  ...  5.785095\n",
       "\n",
       "[5 rows x 7 columns]"
      ]
     },
     "execution_count": 8,
     "metadata": {},
     "output_type": "execute_result"
    }
   ],
   "source": [
    "# Load Train Data\n",
    "\n",
    "datadir = \"data\"\n",
    "columns = [\"center\", \"left\", \"right\", \"steering\", \"throttle\", \"reverse\", \"speed\"]\n",
    "data = pd.read_csv(os.path.join(datadir, 'driving_log.csv'), names=columns)\n",
    "pd.set_option('display.max_colwidth', -1)\n",
    "data.head()"
   ]
  },
  {
   "cell_type": "markdown",
   "metadata": {},
   "source": [
    "## Image Path Edit\n",
    "\n",
    "Split the src of the image to load image appropriate."
   ]
  },
  {
   "cell_type": "code",
   "execution_count": 18,
   "metadata": {},
   "outputs": [],
   "source": [
    "def path_leaf(path): \n",
    "    head, tail = ntpath.split(path)\n",
    "    return tail"
   ]
  },
  {
   "cell_type": "code",
   "execution_count": 17,
   "metadata": {},
   "outputs": [
    {
     "name": "stdout",
     "output_type": "stream",
     "text": [
      "C:/Users/YSH/Documents/OurAICar/simulation/simple/data/IMG center_2022_02_22_12_44_40_809.jpg\n",
      "('C:/Users/YSH/Documents/OurAICar/simulation/simple/data/IMG', 'center_2022_02_22_12_44_40_809.jpg')\n"
     ]
    }
   ],
   "source": [
    "print(path_leaf('C:/Users/YSH/Documents/OurAICar/simulation/simple/data/IMG/center_2022_02_22_12_44_40_809.jpg'))"
   ]
  },
  {
   "cell_type": "code",
   "execution_count": 19,
   "metadata": {},
   "outputs": [
    {
     "data": {
      "text/html": [
       "<div>\n",
       "<style scoped>\n",
       "    .dataframe tbody tr th:only-of-type {\n",
       "        vertical-align: middle;\n",
       "    }\n",
       "\n",
       "    .dataframe tbody tr th {\n",
       "        vertical-align: top;\n",
       "    }\n",
       "\n",
       "    .dataframe thead th {\n",
       "        text-align: right;\n",
       "    }\n",
       "</style>\n",
       "<table border=\"1\" class=\"dataframe\">\n",
       "  <thead>\n",
       "    <tr style=\"text-align: right;\">\n",
       "      <th></th>\n",
       "      <th>center</th>\n",
       "      <th>left</th>\n",
       "      <th>right</th>\n",
       "      <th>steering</th>\n",
       "      <th>throttle</th>\n",
       "      <th>reverse</th>\n",
       "      <th>speed</th>\n",
       "    </tr>\n",
       "  </thead>\n",
       "  <tbody>\n",
       "    <tr>\n",
       "      <th>0</th>\n",
       "      <td>center_2022_02_22_12_44_40_526.jpg</td>\n",
       "      <td>left_2022_02_22_12_44_40_526.jpg</td>\n",
       "      <td>right_2022_02_22_12_44_40_526.jpg</td>\n",
       "      <td>0.00</td>\n",
       "      <td>0.0</td>\n",
       "      <td>0</td>\n",
       "      <td>5.951196</td>\n",
       "    </tr>\n",
       "    <tr>\n",
       "      <th>1</th>\n",
       "      <td>center_2022_02_22_12_44_40_598.jpg</td>\n",
       "      <td>left_2022_02_22_12_44_40_598.jpg</td>\n",
       "      <td>right_2022_02_22_12_44_40_598.jpg</td>\n",
       "      <td>0.00</td>\n",
       "      <td>0.0</td>\n",
       "      <td>0</td>\n",
       "      <td>5.903379</td>\n",
       "    </tr>\n",
       "    <tr>\n",
       "      <th>2</th>\n",
       "      <td>center_2022_02_22_12_44_40_670.jpg</td>\n",
       "      <td>left_2022_02_22_12_44_40_670.jpg</td>\n",
       "      <td>right_2022_02_22_12_44_40_670.jpg</td>\n",
       "      <td>0.00</td>\n",
       "      <td>0.0</td>\n",
       "      <td>0</td>\n",
       "      <td>5.855948</td>\n",
       "    </tr>\n",
       "    <tr>\n",
       "      <th>3</th>\n",
       "      <td>center_2022_02_22_12_44_40_737.jpg</td>\n",
       "      <td>left_2022_02_22_12_44_40_737.jpg</td>\n",
       "      <td>right_2022_02_22_12_44_40_737.jpg</td>\n",
       "      <td>0.00</td>\n",
       "      <td>0.0</td>\n",
       "      <td>0</td>\n",
       "      <td>5.820624</td>\n",
       "    </tr>\n",
       "    <tr>\n",
       "      <th>4</th>\n",
       "      <td>center_2022_02_22_12_44_40_809.jpg</td>\n",
       "      <td>left_2022_02_22_12_44_40_809.jpg</td>\n",
       "      <td>right_2022_02_22_12_44_40_809.jpg</td>\n",
       "      <td>-0.05</td>\n",
       "      <td>0.0</td>\n",
       "      <td>0</td>\n",
       "      <td>5.785095</td>\n",
       "    </tr>\n",
       "  </tbody>\n",
       "</table>\n",
       "</div>"
      ],
      "text/plain": [
       "                               center  ...     speed\n",
       "0  center_2022_02_22_12_44_40_526.jpg  ...  5.951196\n",
       "1  center_2022_02_22_12_44_40_598.jpg  ...  5.903379\n",
       "2  center_2022_02_22_12_44_40_670.jpg  ...  5.855948\n",
       "3  center_2022_02_22_12_44_40_737.jpg  ...  5.820624\n",
       "4  center_2022_02_22_12_44_40_809.jpg  ...  5.785095\n",
       "\n",
       "[5 rows x 7 columns]"
      ]
     },
     "execution_count": 19,
     "metadata": {},
     "output_type": "execute_result"
    }
   ],
   "source": [
    "data[\"center\"] = data[\"center\"].apply(path_leaf)\n",
    "data[\"left\"] = data[\"left\"].apply(path_leaf)\n",
    "data[\"right\"] = data[\"right\"].apply(path_leaf)\n",
    "data.head()"
   ]
  },
  {
   "cell_type": "markdown",
   "metadata": {},
   "source": [
    "## Train Data Optimization\n",
    "\n",
    "Data distribution is distorted and we have to optimize it"
   ]
  },
  {
   "cell_type": "code",
   "execution_count": 21,
   "metadata": {},
   "outputs": [],
   "source": [
    "num_bins = 25\n",
    "samples_per_bin = 400\n",
    "hist, bins = np.histogram(data[\"steering\"], num_bins)\n",
    "center = (bins[:-1]+ bins[1:]) * 0.5"
   ]
  },
  {
   "cell_type": "code",
   "execution_count": 22,
   "metadata": {},
   "outputs": [
    {
     "name": "stdout",
     "output_type": "stream",
     "text": [
      "total data: 3005\n"
     ]
    },
    {
     "data": {
      "image/png": "[encoded data removed]",
      "text/plain": [
       "<Figure size 432x288 with 1 Axes>"
      ]
     },
     "metadata": {
      "needs_background": "light"
     },
     "output_type": "display_data"
    }
   ],
   "source": [
    "plt.bar(center, hist, width=0.05)\n",
    "plt.plot((np.min(data[\"steering\"]), np.max(data[\"steering\"])), (samples_per_bin, samples_per_bin))\n",
    "print(f\"total data: {len(data)}\")"
   ]
  },
  {
   "cell_type": "code",
   "execution_count": 23,
   "metadata": {},
   "outputs": [],
   "source": [
    "remove_list = []\n",
    "for j in range(num_bins):\n",
    "    list_ = []\n",
    "    for i in range(len(data[\"steering\"])):\n",
    "        if data[\"steering\"][i] >= bins[j] and data[\"steering\"][i] <= bins[j+1]:\n",
    "            list_.append(i)\n",
    "            \n",
    "    list_ = shuffle(list_)\n",
    "    list_ = list_[samples_per_bin:]\n",
    "    remove_list.extend(list_)"
   ]
  },
  {
   "cell_type": "code",
   "execution_count": 24,
   "metadata": {},
   "outputs": [
    {
     "name": "stdout",
     "output_type": "stream",
     "text": [
      "removed: 2017\n",
      "remaining: 988\n"
     ]
    }
   ],
   "source": [
    "print(f\"removed: {len(remove_list)}\")\n",
    "data.drop(data.index[remove_list], inplace=True)\n",
    "print(f\"remaining: {len(data)}\")"
   ]
  },
  {
   "cell_type": "code",
   "execution_count": 25,
   "metadata": {},
   "outputs": [
    {
     "data": {
      "text/plain": [
       "[<matplotlib.lines.Line2D at 0x1f236c0b5b0>]"
      ]
     },
     "execution_count": 25,
     "metadata": {},
     "output_type": "execute_result"
    },
    {
     "data": {
      "image/png": "[encoded data removed]",
      "text/plain": [
       "<Figure size 432x288 with 1 Axes>"
      ]
     },
     "metadata": {
      "needs_background": "light"
     },
     "output_type": "display_data"
    }
   ],
   "source": [
    "hist, _ = np.histogram(data[\"steering\"], (num_bins))\n",
    "plt.bar(center, hist, width=0.05)\n",
    "plt.plot((np.min(data[\"steering\"]), np.max(data[\"steering\"])), (samples_per_bin, samples_per_bin))"
   ]
  },
  {
   "cell_type": "code",
   "execution_count": 26,
   "metadata": {},
   "outputs": [
    {
     "name": "stdout",
     "output_type": "stream",
     "text": [
      "center      center_2022_02_22_12_44_40_879.jpg\n",
      "left        left_2022_02_22_12_44_40_879.jpg  \n",
      "right       right_2022_02_22_12_44_40_879.jpg \n",
      "steering   -0.25                              \n",
      "throttle    0.0                               \n",
      "reverse     0                                 \n",
      "speed       5.726951                          \n",
      "Name: 5, dtype: object\n"
     ]
    }
   ],
   "source": [
    "print(data.iloc[1])"
   ]
  },
  {
   "cell_type": "markdown",
   "metadata": {},
   "source": [
    "## Load Image\n",
    "\n",
    "Loading Image and Augment it to extend dataset."
   ]
  },
  {
   "cell_type": "code",
   "execution_count": null,
   "metadata": {},
   "outputs": [],
   "source": []
  }
 ],
 "metadata": {
  "interpreter": {
   "hash": "44ceb126444518379551ebafdf1ce747fdecdf4c3051b467de19f9bdc1d1cff7"
  },
  "kernelspec": {
   "display_name": "Python 3.9.6 ('mlenv')",
   "language": "python",
   "name": "python3"
  },
  "language_info": {
   "codemirror_mode": {
    "name": "ipython",
    "version": 3
   },
   "file_extension": ".py",
   "mimetype": "text/x-python",
   "name": "python",
   "nbconvert_exporter": "python",
   "pygments_lexer": "ipython3",
   "version": "3.9.6"
  },
  "orig_nbformat": 4
 },
 "nbformat": 4,
 "nbformat_minor": 2
}
